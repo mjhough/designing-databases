{
 "cells": [
  {
   "cell_type": "code",
   "execution_count": 52,
   "metadata": {
    "collapsed": true
   },
   "outputs": [],
   "source": [
    "import pandas as pd\n",
    "import sqlite3\n",
    "pd.set_option('max_columns', 180)\n",
    "pd.set_option('max_rows', 200000)\n",
    "pd.set_option('max_colwidth', 5000)"
   ]
  },
  {
   "cell_type": "code",
   "execution_count": 53,
   "metadata": {
    "collapsed": false
   },
   "outputs": [
    {
     "name": "stderr",
     "output_type": "stream",
     "text": [
      "/dataquest/system/env/python3/lib/python3.4/site-packages/IPython/core/interactiveshell.py:2723: DtypeWarning: Columns (12,13,14,15,19,20,81,82,83,84,85,86,87,88,93,94,95,96,97,98,99,100,105,106,108,109,111,112,114,115,117,118,120,121,123,124,126,127,129,130,132,133,135,136,138,139,141,142,144,145,147,148,150,151,153,154,156,157,160) have mixed types. Specify dtype option on import or set low_memory=False.\n",
      "  interactivity=interactivity, compiler=compiler, result=result)\n"
     ]
    }
   ],
   "source": [
    "game_log = pd.read_csv('game_log.csv')\n",
    "park_codes = pd.read_csv('park_codes.csv')\n",
    "person_codes = pd.read_csv('person_codes.csv')\n",
    "team_codes = pd.read_csv('team_codes.csv')"
   ]
  },
  {
   "cell_type": "code",
   "execution_count": 54,
   "metadata": {
    "collapsed": true
   },
   "outputs": [],
   "source": [
    "dataframes = {'game_log': game_log, 'park_codes': park_codes, 'person_codes': person_codes, 'team_codes': team_codes}"
   ]
  },
  {
   "cell_type": "code",
   "execution_count": 55,
   "metadata": {
    "collapsed": false
   },
   "outputs": [
    {
     "name": "stdout",
     "output_type": "stream",
     "text": [
      "(171907, 161)\n",
      "       date  number_of_game day_of_week v_name v_league  v_game_number h_name  \\\n",
      "0  18710504               0         Thu    CL1      NaN              1    FW1   \n",
      "1  18710505               0         Fri    BS1      NaN              1    WS3   \n",
      "2  18710506               0         Sat    CL1      NaN              2    RC1   \n",
      "\n",
      "  h_league  h_game_number  v_score  h_score  length_outs day_night completion  \\\n",
      "0      NaN              1        0        2         54.0         D        NaN   \n",
      "1      NaN              1       20       18         54.0         D        NaN   \n",
      "2      NaN              1       12        4         54.0         D        NaN   \n",
      "\n",
      "  forefeit protest park_id  attendance  length_minutes v_line_score  \\\n",
      "0      NaN     NaN   FOR01       200.0           120.0    000000000   \n",
      "1      NaN     NaN   WAS01      5000.0           145.0    107000435   \n",
      "2      NaN     NaN   RCK01      1000.0           140.0    610020003   \n",
      "\n",
      "  h_line_score  v_at_bats  v_hits  v_doubles  v_triples  v_homeruns  v_rbi  \\\n",
      "0    010010000       30.0     4.0        1.0        0.0         0.0    0.0   \n",
      "1    640113030       41.0    13.0        1.0        2.0         0.0   13.0   \n",
      "2    010020100       49.0    11.0        1.0        1.0         0.0    8.0   \n",
      "\n",
      "   v_sacrifice_hits  v_sacrifice_flies  v_hit_by_pitch  v_walks  \\\n",
      "0               0.0                0.0             0.0      1.0   \n",
      "1               0.0                0.0             0.0     18.0   \n",
      "2               0.0                0.0             0.0      0.0   \n",
      "\n",
      "   v_intentional_walks  v_strikeouts  v_stolen_bases  v_caught_stealing  \\\n",
      "0                  NaN           6.0             1.0                NaN   \n",
      "1                  NaN           5.0             3.0                NaN   \n",
      "2                  NaN           1.0             0.0                NaN   \n",
      "\n",
      "   v_grounded_into_double  v_first_catcher_interference  v_left_on_base  \\\n",
      "0                    -1.0                           NaN             4.0   \n",
      "1                    -1.0                           NaN            12.0   \n",
      "2                    -1.0                           NaN            10.0   \n",
      "\n",
      "   v_pitchers_used  v_individual_earned_runs  v_team_earned_runs  \\\n",
      "0              1.0                       1.0                 1.0   \n",
      "1              1.0                       6.0                 6.0   \n",
      "2              1.0                       0.0                 0.0   \n",
      "\n",
      "   v_wild_pitches  v_balks  v_putouts  v_assists  v_errors  v_passed_balls  \\\n",
      "0             0.0      0.0       27.0        9.0       0.0             3.0   \n",
      "1             1.0      0.0       27.0       13.0      10.0             1.0   \n",
      "2             2.0      0.0       27.0       12.0       8.0             5.0   \n",
      "\n",
      "   v_double_plays  v_triple_plays  h_at_bats  h_hits  h_doubles  h_triples  \\\n",
      "0             0.0             0.0       31.0     4.0        1.0        0.0   \n",
      "1             2.0             0.0       49.0    14.0        2.0        0.0   \n",
      "2             0.0             0.0       36.0     7.0        2.0        1.0   \n",
      "\n",
      "   h_homeruns  h_rbi  h_sacrifice_hits  h_sacrifice_flies  h_hit_by_pitch  \\\n",
      "0         0.0    2.0               0.0                0.0             0.0   \n",
      "1         0.0   11.0               0.0                0.0             0.0   \n",
      "2         0.0    2.0               0.0                0.0             0.0   \n",
      "\n",
      "   h_walks  h_intentional_walks  h_strikeouts  h_stolen_bases  \\\n",
      "0      1.0                  NaN           0.0             0.0   \n",
      "1     10.0                  NaN           2.0             1.0   \n",
      "2      0.0                  NaN           3.0             5.0   \n",
      "\n",
      "   h_caught_stealing  h_grounded_into_double  h_first_catcher_interference  \\\n",
      "0                NaN                    -1.0                           NaN   \n",
      "1                NaN                    -1.0                           NaN   \n",
      "2                NaN                    -1.0                           NaN   \n",
      "\n",
      "   h_left_on_base  h_pitchers_used  h_individual_earned_runs  \\\n",
      "0             3.0              1.0                       0.0   \n",
      "1            14.0              1.0                       7.0   \n",
      "2             5.0              1.0                       3.0   \n",
      "\n",
      "   h_team_earned_runs  h_wild_pitches  h_balks  h_putouts  h_assists  \\\n",
      "0                 0.0             0.0      0.0       27.0        3.0   \n",
      "1                 7.0             0.0      0.0       27.0       20.0   \n",
      "2                 3.0             1.0      0.0       27.0       12.0   \n",
      "\n",
      "   h_errors  h_passed_balls  h_double_plays  h_triple_plays hp_umpire_id  \\\n",
      "0       3.0             1.0             1.0             0.0     boakj901   \n",
      "1      10.0             2.0             3.0             0.0     dobsh901   \n",
      "2      13.0             3.0             0.0             0.0     mawnj901   \n",
      "\n",
      "  hp_umpire_name 1b_umpire_id 1b_umpire_name 2b_umpire_id 2b_umpire_name  \\\n",
      "0     John Boake          NaN            NaN          NaN            NaN   \n",
      "1   Henry Dobson          NaN            NaN          NaN            NaN   \n",
      "2     J.H. Manny          NaN            NaN          NaN            NaN   \n",
      "\n",
      "  3b_umpire_id 3b_umpire_name lf_umpire_id lf_umpire_name rf_umpire_id  \\\n",
      "0          NaN            NaN          NaN            NaN          NaN   \n",
      "1          NaN            NaN          NaN            NaN          NaN   \n",
      "2          NaN            NaN          NaN            NaN          NaN   \n",
      "\n",
      "  rf_umpire_name v_manager_id v_manager_name h_manager_id  h_manager_name  \\\n",
      "0            NaN     paboc101  Charlie Pabor     lennb101     Bill Lennon   \n",
      "1            NaN     wrigh101   Harry Wright     younn801      Nick Young   \n",
      "2            NaN     paboc101  Charlie Pabor     hasts101  Scott Hastings   \n",
      "\n",
      "  winning_pitcher_id winning_pitcher_name losing_pitcher_id  \\\n",
      "0           mathb101        Bobby Mathews          prata101   \n",
      "1           spala101          Al Spalding          braia102   \n",
      "2           prata101             Al Pratt          fishc102   \n",
      "\n",
      "  losing_pitcher_name saving_pitcher_id saving_pitcher_name  \\\n",
      "0            Al Pratt               NaN                 NaN   \n",
      "1        Asa Brainard               NaN                 NaN   \n",
      "2     Cherokee Fisher               NaN                 NaN   \n",
      "\n",
      "  winning_rbi_batter_id winning_rbi_batter_id_name v_starting_pitcher_id  \\\n",
      "0                   NaN                        NaN              prata101   \n",
      "1                   NaN                        NaN              spala101   \n",
      "2                   NaN                        NaN              prata101   \n",
      "\n",
      "  v_starting_pitcher_name h_starting_pitcher_id h_starting_pitcher_name  \\\n",
      "0                Al Pratt              mathb101           Bobby Mathews   \n",
      "1             Al Spalding              braia102            Asa Brainard   \n",
      "2                Al Pratt              fishc102         Cherokee Fisher   \n",
      "\n",
      "  v_player_1_id v_player_1_name  v_player_1_def_pos v_player_2_id  \\\n",
      "0      whitd102    Deacon White                 2.0      kimbg101   \n",
      "1      wrigg101   George Wright                 6.0      barnr102   \n",
      "2      whitd102    Deacon White                 2.0      kimbg101   \n",
      "\n",
      "  v_player_2_name  v_player_2_def_pos v_player_3_id v_player_3_name  \\\n",
      "0    Gene Kimball                 4.0      paboc101   Charlie Pabor   \n",
      "1     Ross Barnes                 4.0      birdd102   Dave Birdsall   \n",
      "2    Gene Kimball                 4.0      paboc101   Charlie Pabor   \n",
      "\n",
      "   v_player_3_def_pos v_player_4_id v_player_4_name  v_player_4_def_pos  \\\n",
      "0                 7.0      allia101     Art Allison                 8.0   \n",
      "1                 9.0      mcvec101       Cal McVey                 2.0   \n",
      "2                 7.0      allia101     Art Allison                 8.0   \n",
      "\n",
      "  v_player_5_id v_player_5_name  v_player_5_def_pos v_player_6_id  \\\n",
      "0      white104     Elmer White                 9.0      prata101   \n",
      "1      wrigh101    Harry Wright                 8.0      goulc101   \n",
      "2      white104     Elmer White                 9.0      prata101   \n",
      "\n",
      "  v_player_6_name  v_player_6_def_pos v_player_7_id v_player_7_name  \\\n",
      "0        Al Pratt                 1.0      sutte101     Ezra Sutton   \n",
      "1   Charlie Gould                 3.0      schah101   Harry Schafer   \n",
      "2        Al Pratt                 1.0      sutte101     Ezra Sutton   \n",
      "\n",
      "   v_player_7_def_pos v_player_8_id v_player_8_name  v_player_8_def_pos  \\\n",
      "0                 5.0      carlj102    Jim Carleton                 3.0   \n",
      "1                 5.0      conef101       Fred Cone                 7.0   \n",
      "2                 5.0      carlj102    Jim Carleton                 3.0   \n",
      "\n",
      "  v_player_9_id v_player_9_name  v_player_9_def_pos h_player_1_id  \\\n",
      "0      bassj101       John Bass                 6.0      selmf101   \n",
      "1      spala101     Al Spalding                 1.0      watef102   \n",
      "2      bassj101       John Bass                 6.0      mackd101   \n",
      "\n",
      "  h_player_1_name  h_player_1_def_pos h_player_2_id h_player_2_name  \\\n",
      "0   Frank Sellman                 5.0      mathb101   Bobby Mathews   \n",
      "1   Fred Waterman                 5.0      forcd101      Davy Force   \n",
      "2      Denny Mack                 3.0      addyb101        Bob Addy   \n",
      "\n",
      "   h_player_2_def_pos h_player_3_id  h_player_3_name  h_player_3_def_pos  \\\n",
      "0                 1.0      foraj101        Jim Foran                 3.0   \n",
      "1                 6.0      mille105    Everett Mills                 3.0   \n",
      "2                 4.0      fishc102  Cherokee Fisher                 1.0   \n",
      "\n",
      "  h_player_4_id  h_player_4_name  h_player_4_def_pos h_player_5_id  \\\n",
      "0      goldw101  Wally Goldsmith                 6.0      lennb101   \n",
      "1      allid101     Doug Allison                 2.0      hallg101   \n",
      "2      hasts101   Scott Hastings                 8.0      ham-r101   \n",
      "\n",
      "  h_player_5_name  h_player_5_def_pos h_player_6_id h_player_6_name  \\\n",
      "0     Bill Lennon                 2.0      caret101       Tom Carey   \n",
      "1     George Hall                 7.0      leona101    Andy Leonard   \n",
      "2       Ralph Ham                 5.0      ansoc101       Cap Anson   \n",
      "\n",
      "   h_player_6_def_pos h_player_7_id h_player_7_name  h_player_7_def_pos  \\\n",
      "0                 4.0      mince101      Ed Mincher                 7.0   \n",
      "1                 4.0      braia102    Asa Brainard                 1.0   \n",
      "2                 2.0      sagep101      Pony Sager                 6.0   \n",
      "\n",
      "  h_player_8_id  h_player_8_name  h_player_8_def_pos h_player_9_id  \\\n",
      "0      mcdej101  James McDermott                 8.0      kellb105   \n",
      "1      burrh101  Henry Burroughs                 9.0      berth101   \n",
      "2      birdg101      George Bird                 7.0      stirg101   \n",
      "\n",
      "   h_player_9_name  h_player_9_def_pos additional_info acquisition_info  \n",
      "0       Bill Kelly                 9.0             NaN                Y  \n",
      "1  Henry Berthrong                 8.0            HTBF                Y  \n",
      "2       Gat Stires                 9.0             NaN                Y  \n",
      "(252, 9)\n",
      "  park_id                      name                            aka     city  \\\n",
      "0   ALB01            Riverside Park                            NaN   Albany   \n",
      "1   ALT01             Columbia Park                            NaN  Altoona   \n",
      "2   ANA01  Angel Stadium of Anaheim  Edison Field; Anaheim Stadium  Anaheim   \n",
      "\n",
      "  state       start         end league  \\\n",
      "0    NY  09/11/1880  05/30/1882     NL   \n",
      "1    PA  04/30/1884  05/31/1884     UA   \n",
      "2    CA  04/19/1966         NaN     AL   \n",
      "\n",
      "                                            notes  \n",
      "0  TRN:9/11/80;6/15&9/10/1881;5/16-5/18&5/30/1882  \n",
      "1                                             NaN  \n",
      "2                                             NaN  \n",
      "(150, 8)\n",
      "  team_id league  start   end     city         nickname franch_id  seq\n",
      "0     ALT     UA   1884  1884  Altoona  Mountain Cities       ALT    1\n",
      "1     ARI     NL   1998     0  Arizona     Diamondbacks       ARI    1\n",
      "2     BFN     NL   1879  1885  Buffalo           Bisons       BFN    1\n",
      "(20494, 7)\n",
      "         id     last   first player_debut mgr_debut coach_debut ump_debut\n",
      "0  aardd001  Aardsma   David   04/06/2004       NaN         NaN       NaN\n",
      "1  aaroh101    Aaron    Hank   04/13/1954       NaN         NaN       NaN\n",
      "2  aarot101    Aaron  Tommie   04/10/1962       NaN  04/06/1979       NaN\n"
     ]
    }
   ],
   "source": [
    "for key, val in dataframes.items():\n",
    "    print(val.shape)\n",
    "    print(val.head(3))"
   ]
  },
  {
   "cell_type": "code",
   "execution_count": 56,
   "metadata": {
    "collapsed": true
   },
   "outputs": [],
   "source": [
    "def run_command(query):\n",
    "    with sqlite3.connect('ml.db') as conn:\n",
    "        conn.execute('PRAGMA foreign_keys = ON;')\n",
    "        conn.isolation_level = None\n",
    "        return conn.execute(query)"
   ]
  },
  {
   "cell_type": "code",
   "execution_count": 57,
   "metadata": {
    "collapsed": false
   },
   "outputs": [],
   "source": [
    "def run_query(query):\n",
    "    with sqlite3.connect('ml.db') as conn:\n",
    "        return pd.read_sql(query, conn)"
   ]
  },
  {
   "cell_type": "code",
   "execution_count": 58,
   "metadata": {
    "collapsed": false
   },
   "outputs": [],
   "source": [
    "with sqlite3.connect('ml.db') as conn:\n",
    "    for key, val in dataframes.items():\n",
    "        run_command('DROP TABLE IF EXISTS ' + key)\n",
    "        val.to_sql(key, conn, index=False)"
   ]
  },
  {
   "cell_type": "code",
   "execution_count": 59,
   "metadata": {
    "collapsed": false
   },
   "outputs": [
    {
     "data": {
      "text/plain": [
       "<sqlite3.Cursor at 0x7fe135efa3b0>"
      ]
     },
     "execution_count": 59,
     "metadata": {},
     "output_type": "execute_result"
    }
   ],
   "source": [
    "run_command('''\n",
    "ALTER TABLE game_log\n",
    "    ADD game_id INTEGER\n",
    "''')"
   ]
  },
  {
   "cell_type": "code",
   "execution_count": 60,
   "metadata": {
    "collapsed": false
   },
   "outputs": [
    {
     "data": {
      "text/html": [
       "<div>\n",
       "<table border=\"1\" class=\"dataframe\">\n",
       "  <thead>\n",
       "    <tr style=\"text-align: right;\">\n",
       "      <th></th>\n",
       "      <th>game_id</th>\n",
       "    </tr>\n",
       "  </thead>\n",
       "  <tbody>\n",
       "    <tr>\n",
       "      <th>0</th>\n",
       "      <td>None</td>\n",
       "    </tr>\n",
       "    <tr>\n",
       "      <th>1</th>\n",
       "      <td>None</td>\n",
       "    </tr>\n",
       "    <tr>\n",
       "      <th>2</th>\n",
       "      <td>None</td>\n",
       "    </tr>\n",
       "    <tr>\n",
       "      <th>3</th>\n",
       "      <td>None</td>\n",
       "    </tr>\n",
       "  </tbody>\n",
       "</table>\n",
       "</div>"
      ],
      "text/plain": [
       "  game_id\n",
       "0    None\n",
       "1    None\n",
       "2    None\n",
       "3    None"
      ]
     },
     "execution_count": 60,
     "metadata": {},
     "output_type": "execute_result"
    }
   ],
   "source": [
    "run_query('SELECT game_id FROM game_log LIMIT 4')"
   ]
  },
  {
   "cell_type": "code",
   "execution_count": 61,
   "metadata": {
    "collapsed": false
   },
   "outputs": [
    {
     "data": {
      "text/plain": [
       "<sqlite3.Cursor at 0x7fe135efa490>"
      ]
     },
     "execution_count": 61,
     "metadata": {},
     "output_type": "execute_result"
    }
   ],
   "source": [
    "run_command('''\n",
    "UPDATE game_log\n",
    "    SET game_id = (\n",
    "        SELECT (h_name || date || number_of_game)\n",
    "        FROM game_log\n",
    "    )\n",
    "''')"
   ]
  },
  {
   "cell_type": "code",
   "execution_count": 62,
   "metadata": {
    "collapsed": false
   },
   "outputs": [
    {
     "data": {
      "text/html": [
       "<div>\n",
       "<table border=\"1\" class=\"dataframe\">\n",
       "  <thead>\n",
       "    <tr style=\"text-align: right;\">\n",
       "      <th></th>\n",
       "      <th>game_id</th>\n",
       "    </tr>\n",
       "  </thead>\n",
       "  <tbody>\n",
       "    <tr>\n",
       "      <th>0</th>\n",
       "      <td>FW1187105040</td>\n",
       "    </tr>\n",
       "    <tr>\n",
       "      <th>1</th>\n",
       "      <td>FW1187105040</td>\n",
       "    </tr>\n",
       "    <tr>\n",
       "      <th>2</th>\n",
       "      <td>FW1187105040</td>\n",
       "    </tr>\n",
       "    <tr>\n",
       "      <th>3</th>\n",
       "      <td>FW1187105040</td>\n",
       "    </tr>\n",
       "  </tbody>\n",
       "</table>\n",
       "</div>"
      ],
      "text/plain": [
       "        game_id\n",
       "0  FW1187105040\n",
       "1  FW1187105040\n",
       "2  FW1187105040\n",
       "3  FW1187105040"
      ]
     },
     "execution_count": 62,
     "metadata": {},
     "output_type": "execute_result"
    }
   ],
   "source": [
    "run_query('SELECT game_id FROM game_log LIMIT 4')"
   ]
  },
  {
   "cell_type": "markdown",
   "metadata": {},
   "source": [
    "# New table schema"
   ]
  },
  {
   "cell_type": "markdown",
   "metadata": {
    "collapsed": true
   },
   "source": [
    "![New Schema](https://s3.amazonaws.com/dq-content/193/mlb_schema.svg)"
   ]
  },
  {
   "cell_type": "markdown",
   "metadata": {},
   "source": [
    "### Create person table"
   ]
  },
  {
   "cell_type": "code",
   "execution_count": 63,
   "metadata": {
    "collapsed": false
   },
   "outputs": [
    {
     "data": {
      "text/plain": [
       "<sqlite3.Cursor at 0x7fe135efa570>"
      ]
     },
     "execution_count": 63,
     "metadata": {},
     "output_type": "execute_result"
    }
   ],
   "source": [
    "c = '''\n",
    "CREATE TABLE IF NOT EXISTS person (\n",
    "    person_id TEXT PRIMARY KEY,\n",
    "    first_name TEXT,\n",
    "    last_name TEXT\n",
    ")\n",
    "'''\n",
    "\n",
    "run_command(c)"
   ]
  },
  {
   "cell_type": "code",
   "execution_count": 64,
   "metadata": {
    "collapsed": false
   },
   "outputs": [
    {
     "data": {
      "text/plain": [
       "<sqlite3.Cursor at 0x7fe135efa500>"
      ]
     },
     "execution_count": 64,
     "metadata": {},
     "output_type": "execute_result"
    }
   ],
   "source": [
    "c = '''\n",
    "INSERT OR IGNORE INTO person\n",
    "    SELECT\n",
    "        id,\n",
    "        first,\n",
    "        last\n",
    "    FROM person_codes\n",
    "'''\n",
    "run_command(c)"
   ]
  },
  {
   "cell_type": "code",
   "execution_count": 65,
   "metadata": {
    "collapsed": false
   },
   "outputs": [
    {
     "data": {
      "text/html": [
       "<div>\n",
       "<table border=\"1\" class=\"dataframe\">\n",
       "  <thead>\n",
       "    <tr style=\"text-align: right;\">\n",
       "      <th></th>\n",
       "      <th>person_id</th>\n",
       "      <th>first_name</th>\n",
       "      <th>last_name</th>\n",
       "    </tr>\n",
       "  </thead>\n",
       "  <tbody>\n",
       "    <tr>\n",
       "      <th>0</th>\n",
       "      <td>aardd001</td>\n",
       "      <td>David</td>\n",
       "      <td>Aardsma</td>\n",
       "    </tr>\n",
       "    <tr>\n",
       "      <th>1</th>\n",
       "      <td>aaroh101</td>\n",
       "      <td>Hank</td>\n",
       "      <td>Aaron</td>\n",
       "    </tr>\n",
       "    <tr>\n",
       "      <th>2</th>\n",
       "      <td>aarot101</td>\n",
       "      <td>Tommie</td>\n",
       "      <td>Aaron</td>\n",
       "    </tr>\n",
       "    <tr>\n",
       "      <th>3</th>\n",
       "      <td>aased001</td>\n",
       "      <td>Don</td>\n",
       "      <td>Aase</td>\n",
       "    </tr>\n",
       "  </tbody>\n",
       "</table>\n",
       "</div>"
      ],
      "text/plain": [
       "  person_id first_name last_name\n",
       "0  aardd001      David   Aardsma\n",
       "1  aaroh101       Hank     Aaron\n",
       "2  aarot101     Tommie     Aaron\n",
       "3  aased001        Don      Aase"
      ]
     },
     "execution_count": 65,
     "metadata": {},
     "output_type": "execute_result"
    }
   ],
   "source": [
    "run_query('SELECT * FROM person LIMIT 4')"
   ]
  },
  {
   "cell_type": "markdown",
   "metadata": {},
   "source": [
    "### Create park table"
   ]
  },
  {
   "cell_type": "code",
   "execution_count": 66,
   "metadata": {
    "collapsed": false
   },
   "outputs": [
    {
     "data": {
      "text/plain": [
       "<sqlite3.Cursor at 0x7fe135efa5e0>"
      ]
     },
     "execution_count": 66,
     "metadata": {},
     "output_type": "execute_result"
    }
   ],
   "source": [
    "c = '''\n",
    "CREATE TABLE IF NOT EXISTS park (\n",
    "    park_id TEXT PRIMARY KEY,\n",
    "    name TEXT,\n",
    "    nickname TEXT,\n",
    "    city TEXT,\n",
    "    state TEXT,\n",
    "    notes TEXT\n",
    ")\n",
    "'''\n",
    "run_command(c)"
   ]
  },
  {
   "cell_type": "code",
   "execution_count": 67,
   "metadata": {
    "collapsed": false
   },
   "outputs": [
    {
     "data": {
      "text/plain": [
       "<sqlite3.Cursor at 0x7fe135efa6c0>"
      ]
     },
     "execution_count": 67,
     "metadata": {},
     "output_type": "execute_result"
    }
   ],
   "source": [
    "c = '''\n",
    "INSERT OR IGNORE INTO park\n",
    "    SELECT\n",
    "        park_id,\n",
    "        name,\n",
    "        aka,\n",
    "        city,\n",
    "        state,\n",
    "        notes\n",
    "    FROM park_codes\n",
    "'''\n",
    "run_command(c)"
   ]
  },
  {
   "cell_type": "code",
   "execution_count": 68,
   "metadata": {
    "collapsed": false
   },
   "outputs": [
    {
     "data": {
      "text/html": [
       "<div>\n",
       "<table border=\"1\" class=\"dataframe\">\n",
       "  <thead>\n",
       "    <tr style=\"text-align: right;\">\n",
       "      <th></th>\n",
       "      <th>park_id</th>\n",
       "      <th>name</th>\n",
       "      <th>nickname</th>\n",
       "      <th>city</th>\n",
       "      <th>state</th>\n",
       "      <th>notes</th>\n",
       "    </tr>\n",
       "  </thead>\n",
       "  <tbody>\n",
       "    <tr>\n",
       "      <th>0</th>\n",
       "      <td>ALB01</td>\n",
       "      <td>Riverside Park</td>\n",
       "      <td>None</td>\n",
       "      <td>Albany</td>\n",
       "      <td>NY</td>\n",
       "      <td>TRN:9/11/80;6/15&amp;9/10/1881;5/16-5/18&amp;5/30/1882</td>\n",
       "    </tr>\n",
       "    <tr>\n",
       "      <th>1</th>\n",
       "      <td>ALT01</td>\n",
       "      <td>Columbia Park</td>\n",
       "      <td>None</td>\n",
       "      <td>Altoona</td>\n",
       "      <td>PA</td>\n",
       "      <td>None</td>\n",
       "    </tr>\n",
       "    <tr>\n",
       "      <th>2</th>\n",
       "      <td>ANA01</td>\n",
       "      <td>Angel Stadium of Anaheim</td>\n",
       "      <td>Edison Field; Anaheim Stadium</td>\n",
       "      <td>Anaheim</td>\n",
       "      <td>CA</td>\n",
       "      <td>None</td>\n",
       "    </tr>\n",
       "    <tr>\n",
       "      <th>3</th>\n",
       "      <td>ARL01</td>\n",
       "      <td>Arlington Stadium</td>\n",
       "      <td>None</td>\n",
       "      <td>Arlington</td>\n",
       "      <td>TX</td>\n",
       "      <td>None</td>\n",
       "    </tr>\n",
       "  </tbody>\n",
       "</table>\n",
       "</div>"
      ],
      "text/plain": [
       "  park_id                      name                       nickname       city  \\\n",
       "0   ALB01            Riverside Park                           None     Albany   \n",
       "1   ALT01             Columbia Park                           None    Altoona   \n",
       "2   ANA01  Angel Stadium of Anaheim  Edison Field; Anaheim Stadium    Anaheim   \n",
       "3   ARL01         Arlington Stadium                           None  Arlington   \n",
       "\n",
       "  state                                           notes  \n",
       "0    NY  TRN:9/11/80;6/15&9/10/1881;5/16-5/18&5/30/1882  \n",
       "1    PA                                            None  \n",
       "2    CA                                            None  \n",
       "3    TX                                            None  "
      ]
     },
     "execution_count": 68,
     "metadata": {},
     "output_type": "execute_result"
    }
   ],
   "source": [
    "run_query('SELECT * FROM park LIMIT 4')"
   ]
  },
  {
   "cell_type": "markdown",
   "metadata": {},
   "source": [
    "### Create league table"
   ]
  },
  {
   "cell_type": "code",
   "execution_count": 69,
   "metadata": {
    "collapsed": false
   },
   "outputs": [
    {
     "data": {
      "text/plain": [
       "<sqlite3.Cursor at 0x7fe135efa650>"
      ]
     },
     "execution_count": 69,
     "metadata": {},
     "output_type": "execute_result"
    }
   ],
   "source": [
    "c = '''\n",
    "CREATE TABLE IF NOT EXISTS league (\n",
    "    league_id TEXT PRIMARY KEY,\n",
    "    name TEXT\n",
    ")\n",
    "'''\n",
    "run_command(c)"
   ]
  },
  {
   "cell_type": "code",
   "execution_count": 70,
   "metadata": {
    "collapsed": false
   },
   "outputs": [
    {
     "data": {
      "text/plain": [
       "<sqlite3.Cursor at 0x7fe135efa730>"
      ]
     },
     "execution_count": 70,
     "metadata": {},
     "output_type": "execute_result"
    }
   ],
   "source": [
    "c = '''\n",
    "INSERT OR IGNORE INTO league\n",
    "    VALUES \n",
    "        ('NL', 'National League'),\n",
    "        ('AL', 'American League'),\n",
    "        ('AA', 'American Association'),\n",
    "        ('FL', 'Federal League'),\n",
    "        ('PL', 'Players League'),\n",
    "        ('UA', 'Union Association')\n",
    "'''\n",
    "run_command(c)"
   ]
  },
  {
   "cell_type": "code",
   "execution_count": 71,
   "metadata": {
    "collapsed": false
   },
   "outputs": [
    {
     "data": {
      "text/html": [
       "<div>\n",
       "<table border=\"1\" class=\"dataframe\">\n",
       "  <thead>\n",
       "    <tr style=\"text-align: right;\">\n",
       "      <th></th>\n",
       "      <th>league_id</th>\n",
       "      <th>name</th>\n",
       "    </tr>\n",
       "  </thead>\n",
       "  <tbody>\n",
       "    <tr>\n",
       "      <th>0</th>\n",
       "      <td>NL</td>\n",
       "      <td>National League</td>\n",
       "    </tr>\n",
       "    <tr>\n",
       "      <th>1</th>\n",
       "      <td>AL</td>\n",
       "      <td>American League</td>\n",
       "    </tr>\n",
       "    <tr>\n",
       "      <th>2</th>\n",
       "      <td>AA</td>\n",
       "      <td>American Association</td>\n",
       "    </tr>\n",
       "    <tr>\n",
       "      <th>3</th>\n",
       "      <td>FL</td>\n",
       "      <td>Federal League</td>\n",
       "    </tr>\n",
       "    <tr>\n",
       "      <th>4</th>\n",
       "      <td>PL</td>\n",
       "      <td>Players League</td>\n",
       "    </tr>\n",
       "    <tr>\n",
       "      <th>5</th>\n",
       "      <td>UA</td>\n",
       "      <td>Union Association</td>\n",
       "    </tr>\n",
       "  </tbody>\n",
       "</table>\n",
       "</div>"
      ],
      "text/plain": [
       "  league_id                  name\n",
       "0        NL       National League\n",
       "1        AL       American League\n",
       "2        AA  American Association\n",
       "3        FL        Federal League\n",
       "4        PL        Players League\n",
       "5        UA     Union Association"
      ]
     },
     "execution_count": 71,
     "metadata": {},
     "output_type": "execute_result"
    }
   ],
   "source": [
    "run_query('SELECT * FROM league')"
   ]
  },
  {
   "cell_type": "markdown",
   "metadata": {},
   "source": [
    "### Create appearance_type table"
   ]
  },
  {
   "cell_type": "code",
   "execution_count": 72,
   "metadata": {
    "collapsed": false
   },
   "outputs": [
    {
     "data": {
      "text/plain": [
       "<sqlite3.Cursor at 0x7fe135efa7a0>"
      ]
     },
     "execution_count": 72,
     "metadata": {},
     "output_type": "execute_result"
    }
   ],
   "source": [
    "c = '''\n",
    "CREATE TABLE IF NOT EXISTS appearance_type (\n",
    "    appearance_type_id TEXT PRIMARY KEY,\n",
    "    name TEXT,\n",
    "    category TEXT\n",
    ")\n",
    "'''\n",
    "run_command(c)"
   ]
  },
  {
   "cell_type": "code",
   "execution_count": 73,
   "metadata": {
    "collapsed": false
   },
   "outputs": [],
   "source": [
    "app_types = pd.read_csv('appearance_type.csv')\n",
    "with sqlite3.connect('ml.db') as conn:\n",
    "    app_types.to_sql('appearance_type', conn, index=False, if_exists='append')"
   ]
  },
  {
   "cell_type": "code",
   "execution_count": 74,
   "metadata": {
    "collapsed": false
   },
   "outputs": [
    {
     "data": {
      "text/html": [
       "<div>\n",
       "<table border=\"1\" class=\"dataframe\">\n",
       "  <thead>\n",
       "    <tr style=\"text-align: right;\">\n",
       "      <th></th>\n",
       "      <th>appearance_type_id</th>\n",
       "      <th>name</th>\n",
       "      <th>category</th>\n",
       "    </tr>\n",
       "  </thead>\n",
       "  <tbody>\n",
       "    <tr>\n",
       "      <th>0</th>\n",
       "      <td>O1</td>\n",
       "      <td>Batter 1</td>\n",
       "      <td>offense</td>\n",
       "    </tr>\n",
       "    <tr>\n",
       "      <th>1</th>\n",
       "      <td>O2</td>\n",
       "      <td>Batter 2</td>\n",
       "      <td>offense</td>\n",
       "    </tr>\n",
       "    <tr>\n",
       "      <th>2</th>\n",
       "      <td>O3</td>\n",
       "      <td>Batter 3</td>\n",
       "      <td>offense</td>\n",
       "    </tr>\n",
       "    <tr>\n",
       "      <th>3</th>\n",
       "      <td>O4</td>\n",
       "      <td>Batter 4</td>\n",
       "      <td>offense</td>\n",
       "    </tr>\n",
       "    <tr>\n",
       "      <th>4</th>\n",
       "      <td>O5</td>\n",
       "      <td>Batter 5</td>\n",
       "      <td>offense</td>\n",
       "    </tr>\n",
       "    <tr>\n",
       "      <th>5</th>\n",
       "      <td>O6</td>\n",
       "      <td>Batter 6</td>\n",
       "      <td>offense</td>\n",
       "    </tr>\n",
       "    <tr>\n",
       "      <th>6</th>\n",
       "      <td>O7</td>\n",
       "      <td>Batter 7</td>\n",
       "      <td>offense</td>\n",
       "    </tr>\n",
       "    <tr>\n",
       "      <th>7</th>\n",
       "      <td>O8</td>\n",
       "      <td>Batter 8</td>\n",
       "      <td>offense</td>\n",
       "    </tr>\n",
       "    <tr>\n",
       "      <th>8</th>\n",
       "      <td>O9</td>\n",
       "      <td>Batter 9</td>\n",
       "      <td>offense</td>\n",
       "    </tr>\n",
       "    <tr>\n",
       "      <th>9</th>\n",
       "      <td>D1</td>\n",
       "      <td>Pitcher</td>\n",
       "      <td>defense</td>\n",
       "    </tr>\n",
       "    <tr>\n",
       "      <th>10</th>\n",
       "      <td>D2</td>\n",
       "      <td>Catcher</td>\n",
       "      <td>defense</td>\n",
       "    </tr>\n",
       "    <tr>\n",
       "      <th>11</th>\n",
       "      <td>D3</td>\n",
       "      <td>1st Base</td>\n",
       "      <td>defense</td>\n",
       "    </tr>\n",
       "    <tr>\n",
       "      <th>12</th>\n",
       "      <td>D4</td>\n",
       "      <td>2nd Base</td>\n",
       "      <td>defense</td>\n",
       "    </tr>\n",
       "    <tr>\n",
       "      <th>13</th>\n",
       "      <td>D5</td>\n",
       "      <td>3rd Base</td>\n",
       "      <td>defense</td>\n",
       "    </tr>\n",
       "    <tr>\n",
       "      <th>14</th>\n",
       "      <td>D6</td>\n",
       "      <td>Shortstop</td>\n",
       "      <td>defense</td>\n",
       "    </tr>\n",
       "    <tr>\n",
       "      <th>15</th>\n",
       "      <td>D7</td>\n",
       "      <td>Left Field</td>\n",
       "      <td>defense</td>\n",
       "    </tr>\n",
       "    <tr>\n",
       "      <th>16</th>\n",
       "      <td>D8</td>\n",
       "      <td>Center Field</td>\n",
       "      <td>defense</td>\n",
       "    </tr>\n",
       "    <tr>\n",
       "      <th>17</th>\n",
       "      <td>D9</td>\n",
       "      <td>Right Field</td>\n",
       "      <td>defense</td>\n",
       "    </tr>\n",
       "    <tr>\n",
       "      <th>18</th>\n",
       "      <td>D10</td>\n",
       "      <td>Unknown Position</td>\n",
       "      <td>defense</td>\n",
       "    </tr>\n",
       "    <tr>\n",
       "      <th>19</th>\n",
       "      <td>UHP</td>\n",
       "      <td>Home Plate</td>\n",
       "      <td>umpire</td>\n",
       "    </tr>\n",
       "    <tr>\n",
       "      <th>20</th>\n",
       "      <td>U1B</td>\n",
       "      <td>First Base</td>\n",
       "      <td>umpire</td>\n",
       "    </tr>\n",
       "    <tr>\n",
       "      <th>21</th>\n",
       "      <td>U2B</td>\n",
       "      <td>Second Base</td>\n",
       "      <td>umpire</td>\n",
       "    </tr>\n",
       "    <tr>\n",
       "      <th>22</th>\n",
       "      <td>U3B</td>\n",
       "      <td>Third Base</td>\n",
       "      <td>umpire</td>\n",
       "    </tr>\n",
       "    <tr>\n",
       "      <th>23</th>\n",
       "      <td>ULF</td>\n",
       "      <td>Left Field</td>\n",
       "      <td>umpire</td>\n",
       "    </tr>\n",
       "    <tr>\n",
       "      <th>24</th>\n",
       "      <td>URF</td>\n",
       "      <td>Right Field</td>\n",
       "      <td>umpire</td>\n",
       "    </tr>\n",
       "    <tr>\n",
       "      <th>25</th>\n",
       "      <td>MM</td>\n",
       "      <td>Manager</td>\n",
       "      <td>manager</td>\n",
       "    </tr>\n",
       "    <tr>\n",
       "      <th>26</th>\n",
       "      <td>AWP</td>\n",
       "      <td>Winning Pitcher</td>\n",
       "      <td>award</td>\n",
       "    </tr>\n",
       "    <tr>\n",
       "      <th>27</th>\n",
       "      <td>ALP</td>\n",
       "      <td>Losing Pitcher</td>\n",
       "      <td>award</td>\n",
       "    </tr>\n",
       "    <tr>\n",
       "      <th>28</th>\n",
       "      <td>ASP</td>\n",
       "      <td>Saving Pitcher</td>\n",
       "      <td>award</td>\n",
       "    </tr>\n",
       "    <tr>\n",
       "      <th>29</th>\n",
       "      <td>AWB</td>\n",
       "      <td>Winning RBI Batter</td>\n",
       "      <td>award</td>\n",
       "    </tr>\n",
       "    <tr>\n",
       "      <th>30</th>\n",
       "      <td>PSP</td>\n",
       "      <td>Starting Pitcher</td>\n",
       "      <td>pitcher</td>\n",
       "    </tr>\n",
       "  </tbody>\n",
       "</table>\n",
       "</div>"
      ],
      "text/plain": [
       "   appearance_type_id                name category\n",
       "0                  O1            Batter 1  offense\n",
       "1                  O2            Batter 2  offense\n",
       "2                  O3            Batter 3  offense\n",
       "3                  O4            Batter 4  offense\n",
       "4                  O5            Batter 5  offense\n",
       "5                  O6            Batter 6  offense\n",
       "6                  O7            Batter 7  offense\n",
       "7                  O8            Batter 8  offense\n",
       "8                  O9            Batter 9  offense\n",
       "9                  D1             Pitcher  defense\n",
       "10                 D2             Catcher  defense\n",
       "11                 D3            1st Base  defense\n",
       "12                 D4            2nd Base  defense\n",
       "13                 D5            3rd Base  defense\n",
       "14                 D6           Shortstop  defense\n",
       "15                 D7          Left Field  defense\n",
       "16                 D8        Center Field  defense\n",
       "17                 D9         Right Field  defense\n",
       "18                D10    Unknown Position  defense\n",
       "19                UHP          Home Plate   umpire\n",
       "20                U1B          First Base   umpire\n",
       "21                U2B         Second Base   umpire\n",
       "22                U3B          Third Base   umpire\n",
       "23                ULF          Left Field   umpire\n",
       "24                URF         Right Field   umpire\n",
       "25                 MM             Manager  manager\n",
       "26                AWP     Winning Pitcher    award\n",
       "27                ALP      Losing Pitcher    award\n",
       "28                ASP      Saving Pitcher    award\n",
       "29                AWB  Winning RBI Batter    award\n",
       "30                PSP    Starting Pitcher  pitcher"
      ]
     },
     "execution_count": 74,
     "metadata": {},
     "output_type": "execute_result"
    }
   ],
   "source": [
    "run_query('SELECT * FROM appearance_type')"
   ]
  },
  {
   "cell_type": "markdown",
   "metadata": {},
   "source": [
    "### Create team table"
   ]
  },
  {
   "cell_type": "code",
   "execution_count": 75,
   "metadata": {
    "collapsed": false
   },
   "outputs": [
    {
     "data": {
      "text/plain": [
       "<sqlite3.Cursor at 0x7fe135efa810>"
      ]
     },
     "execution_count": 75,
     "metadata": {},
     "output_type": "execute_result"
    }
   ],
   "source": [
    "c = '''\n",
    "CREATE TABLE IF NOT EXISTS team (\n",
    "    team_id TEXT PRIMARY KEY,\n",
    "    league_id TEXT,\n",
    "    city TEXT,\n",
    "    nickname TEXT,\n",
    "    franch_id TEXT,\n",
    "    FOREIGN KEY (league_id) REFERENCES league(league_id)\n",
    ")\n",
    "'''\n",
    "run_command(c)"
   ]
  },
  {
   "cell_type": "code",
   "execution_count": 76,
   "metadata": {
    "collapsed": false
   },
   "outputs": [
    {
     "data": {
      "text/plain": [
       "<sqlite3.Cursor at 0x7fe135efa960>"
      ]
     },
     "execution_count": 76,
     "metadata": {},
     "output_type": "execute_result"
    }
   ],
   "source": [
    "c = '''\n",
    "INSERT OR IGNORE INTO team\n",
    "    SELECT\n",
    "        team_id,\n",
    "        league,\n",
    "        city,\n",
    "        nickname,\n",
    "        franch_id\n",
    "    FROM team_codes\n",
    "'''\n",
    "run_command(c)"
   ]
  },
  {
   "cell_type": "code",
   "execution_count": 77,
   "metadata": {
    "collapsed": false
   },
   "outputs": [
    {
     "data": {
      "text/html": [
       "<div>\n",
       "<table border=\"1\" class=\"dataframe\">\n",
       "  <thead>\n",
       "    <tr style=\"text-align: right;\">\n",
       "      <th></th>\n",
       "      <th>team_id</th>\n",
       "      <th>league_id</th>\n",
       "      <th>city</th>\n",
       "      <th>nickname</th>\n",
       "      <th>franch_id</th>\n",
       "    </tr>\n",
       "  </thead>\n",
       "  <tbody>\n",
       "    <tr>\n",
       "      <th>0</th>\n",
       "      <td>ALT</td>\n",
       "      <td>UA</td>\n",
       "      <td>Altoona</td>\n",
       "      <td>Mountain Cities</td>\n",
       "      <td>ALT</td>\n",
       "    </tr>\n",
       "    <tr>\n",
       "      <th>1</th>\n",
       "      <td>ARI</td>\n",
       "      <td>NL</td>\n",
       "      <td>Arizona</td>\n",
       "      <td>Diamondbacks</td>\n",
       "      <td>ARI</td>\n",
       "    </tr>\n",
       "    <tr>\n",
       "      <th>2</th>\n",
       "      <td>BFN</td>\n",
       "      <td>NL</td>\n",
       "      <td>Buffalo</td>\n",
       "      <td>Bisons</td>\n",
       "      <td>BFN</td>\n",
       "    </tr>\n",
       "    <tr>\n",
       "      <th>3</th>\n",
       "      <td>BFP</td>\n",
       "      <td>PL</td>\n",
       "      <td>Buffalo</td>\n",
       "      <td>Bisons</td>\n",
       "      <td>BFP</td>\n",
       "    </tr>\n",
       "    <tr>\n",
       "      <th>4</th>\n",
       "      <td>BL1</td>\n",
       "      <td>None</td>\n",
       "      <td>Baltimore</td>\n",
       "      <td>Canaries</td>\n",
       "      <td>BL1</td>\n",
       "    </tr>\n",
       "  </tbody>\n",
       "</table>\n",
       "</div>"
      ],
      "text/plain": [
       "  team_id league_id       city         nickname franch_id\n",
       "0     ALT        UA    Altoona  Mountain Cities       ALT\n",
       "1     ARI        NL    Arizona     Diamondbacks       ARI\n",
       "2     BFN        NL    Buffalo           Bisons       BFN\n",
       "3     BFP        PL    Buffalo           Bisons       BFP\n",
       "4     BL1      None  Baltimore         Canaries       BL1"
      ]
     },
     "execution_count": 77,
     "metadata": {},
     "output_type": "execute_result"
    }
   ],
   "source": [
    "run_query('SELECT * FROM team LIMIT 5')"
   ]
  },
  {
   "cell_type": "markdown",
   "metadata": {},
   "source": [
    "### Create game table"
   ]
  },
  {
   "cell_type": "code",
   "execution_count": 84,
   "metadata": {
    "collapsed": false
   },
   "outputs": [
    {
     "data": {
      "text/plain": [
       "<sqlite3.Cursor at 0x7fe135eface0>"
      ]
     },
     "execution_count": 84,
     "metadata": {},
     "output_type": "execute_result"
    }
   ],
   "source": [
    "c = '''\n",
    "CREATE TABLE IF NOT EXISTS game (\n",
    "    game_id TEXT PRIMARY KEY,\n",
    "    date TEXT,\n",
    "    number_of_game INTEGER,\n",
    "    park_id TEXT,\n",
    "    length_outs INTEGER,\n",
    "    day BOOLEAN,\n",
    "    completion TEXT,\n",
    "    forefeit TEXT,\n",
    "    protest TEXT,\n",
    "    attendance INTEGER,\n",
    "    legnth_minutes INTEGER,\n",
    "    additional_info TEXT,\n",
    "    acquisition_info TEXT,\n",
    "    FOREIGN KEY (park_id) REFERENCES park(park_id)\n",
    ")\n",
    "'''\n",
    "run_command(c)"
   ]
  },
  {
   "cell_type": "code",
   "execution_count": 85,
   "metadata": {
    "collapsed": false
   },
   "outputs": [
    {
     "data": {
      "text/plain": [
       "<sqlite3.Cursor at 0x7fe135efac70>"
      ]
     },
     "execution_count": 85,
     "metadata": {},
     "output_type": "execute_result"
    }
   ],
   "source": [
    "c = '''\n",
    "INSERT OR IGNORE INTO game\n",
    "    SELECT\n",
    "        game_id,\n",
    "        date,\n",
    "        number_of_game,\n",
    "        park_id,\n",
    "        length_outs,\n",
    "        CASE\n",
    "            WHEN day_night = \"D\" THEN 1\n",
    "            WHEN day_night = \"N\" THEN 0\n",
    "            ELSE NULL\n",
    "            END\n",
    "            AS day,\n",
    "        completion,\n",
    "        forefeit,\n",
    "        protest,\n",
    "        attendance,\n",
    "        length_minutes,\n",
    "        additional_info,\n",
    "        acquisition_info\n",
    "    FROM game_log\n",
    "'''\n",
    "run_command(c)"
   ]
  },
  {
   "cell_type": "code",
   "execution_count": 86,
   "metadata": {
    "collapsed": false
   },
   "outputs": [
    {
     "data": {
      "text/html": [
       "<div>\n",
       "<table border=\"1\" class=\"dataframe\">\n",
       "  <thead>\n",
       "    <tr style=\"text-align: right;\">\n",
       "      <th></th>\n",
       "      <th>game_id</th>\n",
       "      <th>date</th>\n",
       "      <th>number_of_game</th>\n",
       "      <th>park_id</th>\n",
       "      <th>length_outs</th>\n",
       "      <th>day</th>\n",
       "      <th>completion</th>\n",
       "      <th>forefeit</th>\n",
       "      <th>protest</th>\n",
       "      <th>attendance</th>\n",
       "      <th>legnth_minutes</th>\n",
       "      <th>additional_info</th>\n",
       "      <th>acquisition_info</th>\n",
       "    </tr>\n",
       "  </thead>\n",
       "  <tbody>\n",
       "    <tr>\n",
       "      <th>0</th>\n",
       "      <td>FW1187105040</td>\n",
       "      <td>18710504</td>\n",
       "      <td>0</td>\n",
       "      <td>FOR01</td>\n",
       "      <td>54</td>\n",
       "      <td>1</td>\n",
       "      <td>None</td>\n",
       "      <td>None</td>\n",
       "      <td>None</td>\n",
       "      <td>200</td>\n",
       "      <td>120</td>\n",
       "      <td>None</td>\n",
       "      <td>Y</td>\n",
       "    </tr>\n",
       "  </tbody>\n",
       "</table>\n",
       "</div>"
      ],
      "text/plain": [
       "        game_id      date  number_of_game park_id  length_outs  day  \\\n",
       "0  FW1187105040  18710504               0   FOR01           54    1   \n",
       "\n",
       "  completion forefeit protest  attendance  legnth_minutes additional_info  \\\n",
       "0       None     None    None         200             120            None   \n",
       "\n",
       "  acquisition_info  \n",
       "0                Y  "
      ]
     },
     "execution_count": 86,
     "metadata": {},
     "output_type": "execute_result"
    }
   ],
   "source": [
    "run_query('SELECT * FROM game LIMIT 5')"
   ]
  },
  {
   "cell_type": "code",
   "execution_count": 90,
   "metadata": {
    "collapsed": false
   },
   "outputs": [
    {
     "data": {
      "text/plain": [
       "<sqlite3.Cursor at 0x7fe135efaea0>"
      ]
     },
     "execution_count": 90,
     "metadata": {},
     "output_type": "execute_result"
    }
   ],
   "source": [
    "c = '''\n",
    "CREATE TABLE IF NOT EXISTS team_appearance (\n",
    "    team_id TEXT,\n",
    "    game_id TEXT,\n",
    "    home BOOLEAN,\n",
    "    league_id TEXT,\n",
    "    score INTEGER,\n",
    "    line_score TEXT,\n",
    "    at_bats INTEGER,\n",
    "    hits INTEGER,\n",
    "    doubles INTEGER,\n",
    "    triples INTEGER,\n",
    "    homeruns INTEGER,\n",
    "    rbi INTEGER,\n",
    "    sacrifice_hits INTEGER,\n",
    "    sacrifice_flies INTEGER,\n",
    "    hit_by_pitch INTEGER,\n",
    "    walks INTEGER,\n",
    "    intentional_walks INTEGER,\n",
    "    strikeouts INTEGER,\n",
    "    stolen_bases INTEGER,\n",
    "    caught_stealing INTEGER,\n",
    "    grounded_into_double INTEGER,\n",
    "    first_catcher_interference INTEGER,\n",
    "    left_on_base INTEGER,\n",
    "    pitchers_used INTEGER,\n",
    "    individual_earned_runs INTEGER,\n",
    "    team_earned_runs INTEGER,\n",
    "    wild_pitches INTEGER,\n",
    "    balks INTEGER,\n",
    "    putouts INTEGER,\n",
    "    assists INTEGER,\n",
    "    errors INTEGER,\n",
    "    passed_balls INTEGER,\n",
    "    double_plays INTEGER,\n",
    "    triple_plays INTEGER,\n",
    "    PRIMARY KEY (team_id, game_id),\n",
    "    FOREIGN KEY (team_id) REFERENCES team(team_id),\n",
    "    FOREIGN KEY (game_id) REFERENCES game(game_id),\n",
    "    FOREIGN KEY (team_id) REFERENCES team(team_id)\n",
    ")\n",
    "'''\n",
    "run_command(c)"
   ]
  },
  {
   "cell_type": "markdown",
   "metadata": {},
   "source": [
    "### Create team_appearance table"
   ]
  },
  {
   "cell_type": "code",
   "execution_count": 91,
   "metadata": {
    "collapsed": false
   },
   "outputs": [
    {
     "data": {
      "text/plain": [
       "<sqlite3.Cursor at 0x7fe135efae30>"
      ]
     },
     "execution_count": 91,
     "metadata": {},
     "output_type": "execute_result"
    }
   ],
   "source": [
    "c = '''\n",
    "INSERT OR IGNORE INTO team_appearance\n",
    "    SELECT\n",
    "        h_name,\n",
    "        game_id,\n",
    "        1 AS home,\n",
    "        h_league,\n",
    "        h_score,\n",
    "        h_line_score,\n",
    "        h_at_bats,\n",
    "        h_hits,\n",
    "        h_doubles,\n",
    "        h_triples,\n",
    "        h_homeruns,\n",
    "        h_rbi,\n",
    "        h_sacrifice_hits,\n",
    "        h_sacrifice_flies,\n",
    "        h_hit_by_pitch,\n",
    "        h_walks,\n",
    "        h_intentional_walks,\n",
    "        h_strikeouts,\n",
    "        h_stolen_bases,\n",
    "        h_caught_stealing,\n",
    "        h_grounded_into_double,\n",
    "        h_first_catcher_interference,\n",
    "        h_left_on_base,\n",
    "        h_pitchers_used,\n",
    "        h_individual_earned_runs,\n",
    "        h_team_earned_runs,\n",
    "        h_wild_pitches,\n",
    "        h_balks,\n",
    "        h_putouts,\n",
    "        h_assists,\n",
    "        h_errors,\n",
    "        h_passed_balls,\n",
    "        h_double_plays,\n",
    "        h_triple_plays\n",
    "    FROM game_log\n",
    "\n",
    "UNION\n",
    "\n",
    "    SELECT    \n",
    "        v_name,\n",
    "        game_id,\n",
    "        0 AS home,\n",
    "        v_league,\n",
    "        v_score,\n",
    "        v_line_score,\n",
    "        v_at_bats,\n",
    "        v_hits,\n",
    "        v_doubles,\n",
    "        v_triples,\n",
    "        v_homeruns,\n",
    "        v_rbi,\n",
    "        v_sacrifice_hits,\n",
    "        v_sacrifice_flies,\n",
    "        v_hit_by_pitch,\n",
    "        v_walks,\n",
    "        v_intentional_walks,\n",
    "        v_strikeouts,\n",
    "        v_stolen_bases,\n",
    "        v_caught_stealing,\n",
    "        v_grounded_into_double,\n",
    "        v_first_catcher_interference,\n",
    "        v_left_on_base,\n",
    "        v_pitchers_used,\n",
    "        v_individual_earned_runs,\n",
    "        v_team_earned_runs,\n",
    "        v_wild_pitches,\n",
    "        v_balks,\n",
    "        v_putouts,\n",
    "        v_assists,\n",
    "        v_errors,\n",
    "        v_passed_balls,\n",
    "        v_double_plays,\n",
    "        v_triple_plays\n",
    "    FROM game_log;\n",
    "'''\n",
    "run_command(c)  "
   ]
  },
  {
   "cell_type": "code",
   "execution_count": 92,
   "metadata": {
    "collapsed": false
   },
   "outputs": [
    {
     "data": {
      "text/html": [
       "<div>\n",
       "<table border=\"1\" class=\"dataframe\">\n",
       "  <thead>\n",
       "    <tr style=\"text-align: right;\">\n",
       "      <th></th>\n",
       "      <th>team_id</th>\n",
       "      <th>game_id</th>\n",
       "      <th>home</th>\n",
       "      <th>league_id</th>\n",
       "      <th>score</th>\n",
       "      <th>line_score</th>\n",
       "      <th>at_bats</th>\n",
       "      <th>hits</th>\n",
       "      <th>doubles</th>\n",
       "      <th>triples</th>\n",
       "      <th>homeruns</th>\n",
       "      <th>rbi</th>\n",
       "      <th>sacrifice_hits</th>\n",
       "      <th>sacrifice_flies</th>\n",
       "      <th>hit_by_pitch</th>\n",
       "      <th>walks</th>\n",
       "      <th>intentional_walks</th>\n",
       "      <th>strikeouts</th>\n",
       "      <th>stolen_bases</th>\n",
       "      <th>caught_stealing</th>\n",
       "      <th>grounded_into_double</th>\n",
       "      <th>first_catcher_interference</th>\n",
       "      <th>left_on_base</th>\n",
       "      <th>pitchers_used</th>\n",
       "      <th>individual_earned_runs</th>\n",
       "      <th>team_earned_runs</th>\n",
       "      <th>wild_pitches</th>\n",
       "      <th>balks</th>\n",
       "      <th>putouts</th>\n",
       "      <th>assists</th>\n",
       "      <th>errors</th>\n",
       "      <th>passed_balls</th>\n",
       "      <th>double_plays</th>\n",
       "      <th>triple_plays</th>\n",
       "    </tr>\n",
       "  </thead>\n",
       "  <tbody>\n",
       "    <tr>\n",
       "      <th>0</th>\n",
       "      <td>ALT</td>\n",
       "      <td>FW1187105040</td>\n",
       "      <td>0</td>\n",
       "      <td>UA</td>\n",
       "      <td>1</td>\n",
       "      <td>None</td>\n",
       "      <td>NaN</td>\n",
       "      <td>NaN</td>\n",
       "      <td>NaN</td>\n",
       "      <td>NaN</td>\n",
       "      <td>NaN</td>\n",
       "      <td>NaN</td>\n",
       "      <td>NaN</td>\n",
       "      <td>NaN</td>\n",
       "      <td>NaN</td>\n",
       "      <td>NaN</td>\n",
       "      <td>NaN</td>\n",
       "      <td>NaN</td>\n",
       "      <td>NaN</td>\n",
       "      <td>NaN</td>\n",
       "      <td>NaN</td>\n",
       "      <td>NaN</td>\n",
       "      <td>NaN</td>\n",
       "      <td>NaN</td>\n",
       "      <td>NaN</td>\n",
       "      <td>NaN</td>\n",
       "      <td>NaN</td>\n",
       "      <td>NaN</td>\n",
       "      <td>NaN</td>\n",
       "      <td>NaN</td>\n",
       "      <td>NaN</td>\n",
       "      <td>NaN</td>\n",
       "      <td>NaN</td>\n",
       "      <td>NaN</td>\n",
       "    </tr>\n",
       "    <tr>\n",
       "      <th>1</th>\n",
       "      <td>ANA</td>\n",
       "      <td>FW1187105040</td>\n",
       "      <td>0</td>\n",
       "      <td>AL</td>\n",
       "      <td>0</td>\n",
       "      <td>000000000</td>\n",
       "      <td>26.0</td>\n",
       "      <td>1.0</td>\n",
       "      <td>1.0</td>\n",
       "      <td>0.0</td>\n",
       "      <td>0.0</td>\n",
       "      <td>0.0</td>\n",
       "      <td>0.0</td>\n",
       "      <td>0.0</td>\n",
       "      <td>0.0</td>\n",
       "      <td>2.0</td>\n",
       "      <td>0.0</td>\n",
       "      <td>9.0</td>\n",
       "      <td>0.0</td>\n",
       "      <td>0.0</td>\n",
       "      <td>2.0</td>\n",
       "      <td>0.0</td>\n",
       "      <td>1.0</td>\n",
       "      <td>3.0</td>\n",
       "      <td>5.0</td>\n",
       "      <td>5.0</td>\n",
       "      <td>0.0</td>\n",
       "      <td>0.0</td>\n",
       "      <td>24.0</td>\n",
       "      <td>9.0</td>\n",
       "      <td>1.0</td>\n",
       "      <td>0.0</td>\n",
       "      <td>0.0</td>\n",
       "      <td>0.0</td>\n",
       "    </tr>\n",
       "  </tbody>\n",
       "</table>\n",
       "</div>"
      ],
      "text/plain": [
       "  team_id       game_id  home league_id  score line_score  at_bats  hits  \\\n",
       "0     ALT  FW1187105040     0        UA      1       None      NaN   NaN   \n",
       "1     ANA  FW1187105040     0        AL      0  000000000     26.0   1.0   \n",
       "\n",
       "   doubles  triples  homeruns  rbi  sacrifice_hits  sacrifice_flies  \\\n",
       "0      NaN      NaN       NaN  NaN             NaN              NaN   \n",
       "1      1.0      0.0       0.0  0.0             0.0              0.0   \n",
       "\n",
       "   hit_by_pitch  walks  intentional_walks  strikeouts  stolen_bases  \\\n",
       "0           NaN    NaN                NaN         NaN           NaN   \n",
       "1           0.0    2.0                0.0         9.0           0.0   \n",
       "\n",
       "   caught_stealing  grounded_into_double  first_catcher_interference  \\\n",
       "0              NaN                   NaN                         NaN   \n",
       "1              0.0                   2.0                         0.0   \n",
       "\n",
       "   left_on_base  pitchers_used  individual_earned_runs  team_earned_runs  \\\n",
       "0           NaN            NaN                     NaN               NaN   \n",
       "1           1.0            3.0                     5.0               5.0   \n",
       "\n",
       "   wild_pitches  balks  putouts  assists  errors  passed_balls  double_plays  \\\n",
       "0           NaN    NaN      NaN      NaN     NaN           NaN           NaN   \n",
       "1           0.0    0.0     24.0      9.0     1.0           0.0           0.0   \n",
       "\n",
       "   triple_plays  \n",
       "0           NaN  \n",
       "1           0.0  "
      ]
     },
     "execution_count": 92,
     "metadata": {},
     "output_type": "execute_result"
    }
   ],
   "source": [
    "run_query('SELECT * FROM team_appearance LIMIT 2')"
   ]
  },
  {
   "cell_type": "markdown",
   "metadata": {},
   "source": [
    "### Create person_appearance table"
   ]
  },
  {
   "cell_type": "code",
   "execution_count": 94,
   "metadata": {
    "collapsed": false
   },
   "outputs": [
    {
     "data": {
      "text/plain": [
       "<sqlite3.Cursor at 0x7fe130a1a030>"
      ]
     },
     "execution_count": 94,
     "metadata": {},
     "output_type": "execute_result"
    }
   ],
   "source": [
    "c = '''\n",
    "CREATE TABLE person_appearance (\n",
    "    appearance_id INTEGER PRIMARY KEY,\n",
    "    person_id TEXT,\n",
    "    team_id TEXT,\n",
    "    game_id TEXT,\n",
    "    appearance_type_id,\n",
    "    FOREIGN KEY (person_id) REFERENCES person(person_id),\n",
    "    FOREIGN KEY (team_id) REFERENCES team(team_id),\n",
    "    FOREIGN KEY (game_id) REFERENCES game(game_id),\n",
    "    FOREIGN KEY (appearance_type_id) REFERENCES appearance_type(appearance_type_id)\n",
    ")\n",
    "'''\n",
    "run_command(c)"
   ]
  },
  {
   "cell_type": "code",
   "execution_count": 95,
   "metadata": {
    "collapsed": false
   },
   "outputs": [
    {
     "data": {
      "text/plain": [
       "<sqlite3.Cursor at 0x7fe130a1a0a0>"
      ]
     },
     "execution_count": 95,
     "metadata": {},
     "output_type": "execute_result"
    }
   ],
   "source": [
    "c = '''\n",
    "INSERT OR IGNORE INTO person_appearance (\n",
    "    game_id,\n",
    "    team_id,\n",
    "    person_id,\n",
    "    appearance_type_id\n",
    ") \n",
    "    SELECT\n",
    "        game_id,\n",
    "        NULL,\n",
    "        hp_umpire_id,\n",
    "        \"UHP\"\n",
    "    FROM game_log\n",
    "    WHERE hp_umpire_id IS NOT NULL    \n",
    "\n",
    "UNION\n",
    "\n",
    "    SELECT\n",
    "        game_id,\n",
    "        NULL,\n",
    "        [1b_umpire_id],\n",
    "        \"U1B\"\n",
    "    FROM game_log\n",
    "    WHERE \"1b_umpire_id\" IS NOT NULL\n",
    "\n",
    "UNION\n",
    "\n",
    "    SELECT\n",
    "        game_id,\n",
    "        NULL,\n",
    "        [2b_umpire_id],\n",
    "        \"U2B\"\n",
    "    FROM game_log\n",
    "    WHERE [2b_umpire_id] IS NOT NULL\n",
    "\n",
    "UNION\n",
    "\n",
    "    SELECT\n",
    "        game_id,\n",
    "        NULL,\n",
    "        [3b_umpire_id],\n",
    "        \"U3B\"\n",
    "    FROM game_log\n",
    "    WHERE [3b_umpire_id] IS NOT NULL\n",
    "\n",
    "UNION\n",
    "\n",
    "    SELECT\n",
    "        game_id,\n",
    "        NULL,\n",
    "        lf_umpire_id,\n",
    "        \"ULF\"\n",
    "    FROM game_log\n",
    "    WHERE lf_umpire_id IS NOT NULL\n",
    "\n",
    "UNION\n",
    "\n",
    "    SELECT\n",
    "        game_id,\n",
    "        NULL,\n",
    "        rf_umpire_id,\n",
    "        \"URF\"\n",
    "    FROM game_log\n",
    "    WHERE rf_umpire_id IS NOT NULL\n",
    "\n",
    "UNION\n",
    "\n",
    "    SELECT\n",
    "        game_id,\n",
    "        v_name,\n",
    "        v_manager_id,\n",
    "        \"MM\"\n",
    "    FROM game_log\n",
    "    WHERE v_manager_id IS NOT NULL\n",
    "\n",
    "UNION\n",
    "\n",
    "    SELECT\n",
    "        game_id,\n",
    "        h_name,\n",
    "        h_manager_id,\n",
    "        \"MM\"\n",
    "    FROM game_log\n",
    "    WHERE h_manager_id IS NOT NULL\n",
    "\n",
    "UNION\n",
    "\n",
    "    SELECT\n",
    "        game_id,\n",
    "        CASE\n",
    "            WHEN h_score > v_score THEN h_name\n",
    "            ELSE v_name\n",
    "            END,\n",
    "        winning_pitcher_id,\n",
    "        \"AWP\"\n",
    "    FROM game_log\n",
    "    WHERE winning_pitcher_id IS NOT NULL\n",
    "\n",
    "UNION\n",
    "\n",
    "    SELECT\n",
    "        game_id,\n",
    "        CASE\n",
    "            WHEN h_score < v_score THEN h_name\n",
    "            ELSE v_name\n",
    "            END,\n",
    "        losing_pitcher_id,\n",
    "        \"ALP\"\n",
    "    FROM game_log\n",
    "    WHERE losing_pitcher_id IS NOT NULL\n",
    "\n",
    "UNION\n",
    "\n",
    "    SELECT\n",
    "        game_id,\n",
    "        CASE\n",
    "            WHEN h_score > v_score THEN h_name\n",
    "            ELSE v_name\n",
    "            END,\n",
    "        saving_pitcher_id,\n",
    "        \"ASP\"\n",
    "    FROM game_log\n",
    "    WHERE saving_pitcher_id IS NOT NULL\n",
    "\n",
    "UNION\n",
    "\n",
    "    SELECT\n",
    "        game_id,\n",
    "        CASE\n",
    "            WHEN h_score > v_score THEN h_name\n",
    "            ELSE v_name\n",
    "            END,\n",
    "        winning_rbi_batter_id,\n",
    "        \"AWB\"\n",
    "    FROM game_log\n",
    "    WHERE winning_rbi_batter_id IS NOT NULL\n",
    "\n",
    "UNION\n",
    "\n",
    "    SELECT\n",
    "        game_id,\n",
    "        v_name,\n",
    "        v_starting_pitcher_id,\n",
    "        \"PSP\"\n",
    "    FROM game_log\n",
    "    WHERE v_starting_pitcher_id IS NOT NULL\n",
    "\n",
    "UNION\n",
    "\n",
    "    SELECT\n",
    "        game_id,\n",
    "        h_name,\n",
    "        h_starting_pitcher_id,\n",
    "        \"PSP\"\n",
    "    FROM game_log\n",
    "    WHERE h_starting_pitcher_id IS NOT NULL;\n",
    "'''\n",
    "run_command(c)"
   ]
  },
  {
   "cell_type": "code",
   "execution_count": 97,
   "metadata": {
    "collapsed": false
   },
   "outputs": [],
   "source": [
    "t_string = '''\n",
    "INSERT INTO person_appearance (\n",
    "    game_id,\n",
    "    team_id,\n",
    "    person_id,\n",
    "    appearance_type_id\n",
    ") \n",
    "    SELECT\n",
    "        game_id,\n",
    "        {ind}_name,\n",
    "        {ind}_player_{i}_id,\n",
    "        \"O{i}\"\n",
    "    FROM game_log\n",
    "    WHERE {ind}_player_{i}_id IS NOT NULL\n",
    "\n",
    "UNION\n",
    "\n",
    "    SELECT\n",
    "        game_id,\n",
    "        {ind}_name,\n",
    "        {ind}_player_{i}_id,\n",
    "        \"D\" || CAST({ind}_player_{i}_def_pos AS INT)\n",
    "    FROM game_log\n",
    "    WHERE {ind}_player_{i}_id IS NOT NULL;\n",
    "'''\n",
    "\n",
    "for ind in ['h', 'v']:\n",
    "    for i in range(1,10):\n",
    "        query_vars = {\n",
    "            'ind': ind,\n",
    "            'i': i\n",
    "        }\n",
    "        run_command(t_string.format(**query_vars))"
   ]
  },
  {
   "cell_type": "code",
   "execution_count": 99,
   "metadata": {
    "collapsed": false
   },
   "outputs": [
    {
     "data": {
      "text/html": [
       "<div>\n",
       "<table border=\"1\" class=\"dataframe\">\n",
       "  <thead>\n",
       "    <tr style=\"text-align: right;\">\n",
       "      <th></th>\n",
       "      <th>appearance_id</th>\n",
       "      <th>person_id</th>\n",
       "      <th>team_id</th>\n",
       "      <th>game_id</th>\n",
       "      <th>appearance_type_id</th>\n",
       "    </tr>\n",
       "  </thead>\n",
       "  <tbody>\n",
       "    <tr>\n",
       "      <th>0</th>\n",
       "      <td>1</td>\n",
       "      <td>abbec101</td>\n",
       "      <td>None</td>\n",
       "      <td>FW1187105040</td>\n",
       "      <td>U1B</td>\n",
       "    </tr>\n",
       "    <tr>\n",
       "      <th>1</th>\n",
       "      <td>2</td>\n",
       "      <td>abbof101</td>\n",
       "      <td>None</td>\n",
       "      <td>FW1187105040</td>\n",
       "      <td>UHP</td>\n",
       "    </tr>\n",
       "    <tr>\n",
       "      <th>2</th>\n",
       "      <td>3</td>\n",
       "      <td>adamj901</td>\n",
       "      <td>None</td>\n",
       "      <td>FW1187105040</td>\n",
       "      <td>UHP</td>\n",
       "    </tr>\n",
       "    <tr>\n",
       "      <th>3</th>\n",
       "      <td>4</td>\n",
       "      <td>addyb101</td>\n",
       "      <td>None</td>\n",
       "      <td>FW1187105040</td>\n",
       "      <td>UHP</td>\n",
       "    </tr>\n",
       "    <tr>\n",
       "      <th>4</th>\n",
       "      <td>5</td>\n",
       "      <td>adleu901</td>\n",
       "      <td>None</td>\n",
       "      <td>FW1187105040</td>\n",
       "      <td>UHP</td>\n",
       "    </tr>\n",
       "  </tbody>\n",
       "</table>\n",
       "</div>"
      ],
      "text/plain": [
       "   appearance_id person_id team_id       game_id appearance_type_id\n",
       "0              1  abbec101    None  FW1187105040                U1B\n",
       "1              2  abbof101    None  FW1187105040                UHP\n",
       "2              3  adamj901    None  FW1187105040                UHP\n",
       "3              4  addyb101    None  FW1187105040                UHP\n",
       "4              5  adleu901    None  FW1187105040                UHP"
      ]
     },
     "execution_count": 99,
     "metadata": {},
     "output_type": "execute_result"
    }
   ],
   "source": [
    "run_query('SELECT * FROM person_appearance LIMIT 5')"
   ]
  },
  {
   "cell_type": "markdown",
   "metadata": {},
   "source": [
    "### Drop non-normalized tables"
   ]
  },
  {
   "cell_type": "code",
   "execution_count": 100,
   "metadata": {
    "collapsed": true
   },
   "outputs": [],
   "source": [
    "for key, val in dataframes.items():\n",
    "    run_command('DROP TABLE ' + key)"
   ]
  },
  {
   "cell_type": "code",
   "execution_count": 106,
   "metadata": {
    "collapsed": false
   },
   "outputs": [
    {
     "data": {
      "text/html": [
       "<div>\n",
       "<table border=\"1\" class=\"dataframe\">\n",
       "  <thead>\n",
       "    <tr style=\"text-align: right;\">\n",
       "      <th></th>\n",
       "      <th>name</th>\n",
       "    </tr>\n",
       "  </thead>\n",
       "  <tbody>\n",
       "    <tr>\n",
       "      <th>0</th>\n",
       "      <td>person</td>\n",
       "    </tr>\n",
       "    <tr>\n",
       "      <th>1</th>\n",
       "      <td>park</td>\n",
       "    </tr>\n",
       "    <tr>\n",
       "      <th>2</th>\n",
       "      <td>league</td>\n",
       "    </tr>\n",
       "    <tr>\n",
       "      <th>3</th>\n",
       "      <td>appearance_type</td>\n",
       "    </tr>\n",
       "    <tr>\n",
       "      <th>4</th>\n",
       "      <td>team</td>\n",
       "    </tr>\n",
       "    <tr>\n",
       "      <th>5</th>\n",
       "      <td>game</td>\n",
       "    </tr>\n",
       "    <tr>\n",
       "      <th>6</th>\n",
       "      <td>team_appearance</td>\n",
       "    </tr>\n",
       "    <tr>\n",
       "      <th>7</th>\n",
       "      <td>person_appearance</td>\n",
       "    </tr>\n",
       "  </tbody>\n",
       "</table>\n",
       "</div>"
      ],
      "text/plain": [
       "                name\n",
       "0             person\n",
       "1               park\n",
       "2             league\n",
       "3    appearance_type\n",
       "4               team\n",
       "5               game\n",
       "6    team_appearance\n",
       "7  person_appearance"
      ]
     },
     "execution_count": 106,
     "metadata": {},
     "output_type": "execute_result"
    }
   ],
   "source": [
    "run_query('SELECT name FROM sqlite_master WHERE type = \"table\"')"
   ]
  },
  {
   "cell_type": "markdown",
   "metadata": {},
   "source": [
    "### Done!"
   ]
  },
  {
   "cell_type": "code",
   "execution_count": null,
   "metadata": {
    "collapsed": true
   },
   "outputs": [],
   "source": []
  }
 ],
 "metadata": {
  "kernelspec": {
   "display_name": "Python 3",
   "language": "python",
   "name": "python3"
  },
  "language_info": {
   "codemirror_mode": {
    "name": "ipython",
    "version": 3
   },
   "file_extension": ".py",
   "mimetype": "text/x-python",
   "name": "python",
   "nbconvert_exporter": "python",
   "pygments_lexer": "ipython3",
   "version": "3.4.3"
  }
 },
 "nbformat": 4,
 "nbformat_minor": 2
}
